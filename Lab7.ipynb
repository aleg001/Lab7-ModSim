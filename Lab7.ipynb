{
 "cells": [
  {
   "cell_type": "markdown",
   "metadata": {},
   "source": [
    "# Laboratorio 7 de Modelación y Simulación - Meta-modelado 📊🔬\n",
    "\n",
    "**Integrantes:**\n",
    "- Alejandro Gómez\n",
    "- Roberto Vallecillos\n",
    "- Gabriel Vicente\n",
    "\n",
    "## Introducción 🎯\n",
    "\n",
    "En el séptimo laboratorio de Modelación y Simulación en la Universidad del Valle, exploramos el emocionante mundo del meta-modelado. El propósito de este laboratorio es comprender cómo se pueden utilizar modelos sustitutos para aproximar el comportamiento de sistemas complejos. Además, buscamos aplicar estos conceptos teóricos en situaciones prácticas para resolver problemas del mundo real.\n",
    "\n",
    "### Objetivos del Laboratorio 🚀\n",
    "\n",
    "1. **Investigación y Aplicación Práctica** 🧐: Investigar y comprender las aplicaciones reales del meta-modelado y crear programas de modelado sustituto para ejemplificar su utilidad en diversos contextos.\n",
    "\n",
    "2. **Comprender el Modelo Sustitutivo** 🤖: Explorar en profundidad el concepto de modelo sustituto y su papel en la aproximación de sistemas complejos. Analizar cómo puede beneficiar la simplificación de modelos en escenarios prácticos.\n",
    "\n",
    "3. **Abordar Limitaciones y Sesgos** 🛠️: Analizar las limitaciones inherentes al modelado sustituto y entender cómo el sesgo de selección del modelo puede afectar la precisión de las predicciones. Identificar estrategias para mitigar estas limitaciones.\n",
    "\n",
    "4. **Optimizar la Eficiencia** ⏱️: Examinar el equilibrio entre la precisión del modelo y la eficiencia computacional al seleccionar la complejidad de un modelo sustituto. Comprender cuándo es preferible un modelo más simple y cuándo uno más complejo.\n",
    "\n",
    "5. **Identificar Escenarios Inadecuados** 🚫: Reconocer los problemas que pueden no ser adecuados para la aproximación del modelo sustituto y proporcionar ejemplos concretos para ilustrar estas limitaciones.\n",
    "\n",
    "6. **Manejo de Recursos Limitados** 💻: Aprender cómo abordar problemas complejos y de gran dimensionalidad cuando los recursos computacionales son limitados, incluyendo la reducción de dimensionalidad y la selección de características.\n",
    "\n",
    "A lo largo de este laboratorio, aplicaremos estos objetivos mediante la investigación teórica y la implementación práctica de ejemplos de meta-modelado. Exploraremos cómo el meta-modelado puede ser una herramienta valiosa para simplificar problemas complejos y tomar decisiones informadas en una variedad de campos, desde la ingeniería hasta la ciencia de datos. 🌟🔍🤓\n"
   ]
  },
  {
   "cell_type": "code",
   "execution_count": 1,
   "metadata": {},
   "outputs": [],
   "source": [
    "# Librerías:\n",
    "import numpy as np\n",
    "from sklearn.model_selection import train_test_split\n",
    "from sklearn.linear_model import LinearRegression\n"
   ]
  },
  {
   "cell_type": "markdown",
   "metadata": {},
   "source": [
    "## Ejercicio 1 - Práctica 🚀\n",
    "\n",
    "### Investigación y Programa de Meta-modelado\n",
    "\n",
    "Investigamos diversas aplicaciones de meta-modelado y creamos un programa en Python para ejemplificar su uso. Nuestro ejemplo se centra en predecir el rendimiento de un motor de automóvil a partir de variables como la temperatura ambiente, la velocidad del viento y la presión atmosférica.\n"
   ]
  },
  {
   "cell_type": "code",
   "execution_count": 2,
   "metadata": {},
   "outputs": [
    {
     "name": "stdout",
     "output_type": "stream",
     "text": [
      "Coeficientes del modelo: [ 2.0032709   3.17358658 -1.04007992]\n",
      "Puntuación del modelo: 0.8903229795783465\n"
     ]
    }
   ],
   "source": [
    "\n",
    "# Datos simulados para el modelo\n",
    "X = np.random.rand(100, 3)\n",
    "y = 2 * X[:, 0] + 3 * X[:, 1] - 1 * X[:, 2] + np.random.rand(100)\n",
    "\n",
    "# Dividir datos en conjuntos de entrenamiento y prueba\n",
    "X_train, X_test, y_train, y_test = train_test_split(X, y, test_size=0.2, random_state=42)\n",
    "\n",
    "# Construir un modelo sustituto (regresión lineal en este caso)\n",
    "model = LinearRegression()\n",
    "model.fit(X_train, y_train)\n",
    "\n",
    "# Evaluación del modelo\n",
    "score = model.score(X_test, y_test)\n",
    "\n",
    "print(f\"Coeficientes del modelo: {model.coef_}\")\n",
    "print(f\"Puntuación del modelo: {score}\")"
   ]
  },
  {
   "cell_type": "markdown",
   "metadata": {},
   "source": [
    "**a. ¿Por qué este es un ejemplo de meta-modelado?**\n",
    "\n",
    "Este ejercicio es un ejemplo de meta-modelado porque estamos construyendo un modelo sustitutivo en lugar de utilizar un modelo físico detallado. En lugar de simular el motor de un automóvil con una representación compleja y costosa en términos computacionales, estamos desarrollando un modelo más simple que pueda aproximar el rendimiento del motor utilizando datos de entrada. Este enfoque es fundamental en situaciones donde la simulación de un sistema real es costosa o requiere demasiado tiempo, lo que es común en la ingeniería y la industria automotriz.\n",
    "\n",
    "**b. ¿Cuál es el modelo sustitutivo?**\n",
    "\n",
    "El modelo sustitutivo en este caso es una regresión lineal. Utilizamos una regresión lineal para establecer una relación lineal entre las variables de entrada (temperatura ambiente, velocidad del viento y presión atmosférica) y la variable de salida (rendimiento del motor). El modelo lineal es una simplificación que nos permite aproximar el comportamiento del motor sin necesidad de entender completamente su complejidad interna.\n",
    "\n",
    "**c. Explique adecuadamente la construcción de su modelo y qué aplicaciones puede tener en la vida real**\n",
    "\n",
    "La construcción del modelo sustitutivo implica los siguientes pasos:\n",
    "\n",
    "1. **Generación de Datos Simulados**: Creamos datos simulados que representan diferentes condiciones ambientales y el rendimiento del motor. Estos datos son esenciales para entrenar y evaluar el modelo.\n",
    "\n",
    "2. **División de Datos**: Dividimos los datos en conjuntos de entrenamiento y prueba para evaluar la capacidad predictiva del modelo.\n",
    "\n",
    "3. **Construcción del Modelo**: Utilizamos una regresión lineal para construir el modelo sustitutivo. El modelo se ajusta a los datos de entrenamiento, encontrando la mejor relación lineal entre las variables de entrada y la variable de salida.\n",
    "\n",
    "4. **Evaluación del Modelo**: Medimos la calidad del modelo utilizando una métrica de puntuación (score). Esto nos indica qué tan bien el modelo lineal puede predecir el rendimiento del motor en condiciones no vistas.\n",
    "\n",
    "Aplicaciones en la vida real:\n",
    "Este enfoque de meta-modelado tiene aplicaciones en la vida real en la industria automotriz y más allá. Por ejemplo:\n",
    "- Optimización del rendimiento del motor en diferentes condiciones climáticas.\n",
    "- Predicción de la eficiencia de combustible en automóviles en función de las condiciones ambientales.\n",
    "- Diseño de sistemas de control automático para ajustar automáticamente el motor en tiempo real.\n"
   ]
  },
  {
   "cell_type": "markdown",
   "metadata": {},
   "source": [
    "## Ejercicio 2 - Teoría 📚\n",
    "\n",
    "**a. ¿Qué es un Modelo Sustituto y cuál es su papel en la aproximación de sistemas complejos?**\n",
    "Un **Modelo Sustituto** es una representación simplificada de un sistema complejo que se utiliza para aproximar su comportamiento sin la necesidad de comprender todos sus detalles intrincados. Su papel fundamental es proporcionar una forma más eficiente y rápida de trabajar con sistemas complejos, permitiendo tomar decisiones informadas sin tener que lidiar con la complejidad total. Por ejemplo, en la física, se pueden usar modelos sustitutos para predecir el movimiento de un objeto sin tener en cuenta todas las fuerzas involucradas.\n",
    "\n",
    "**Ejemplo Musical 🎵:** Es como escribir una sinfonía completa. En lugar de escribir cada nota para cada instrumento, usas un software de composición que utiliza modelos sustitutos para simular la música de una orquesta completa. Esto simplifica enormemente el proceso creativo y la representación de la música sin sacrificar su belleza.\n",
    "\n",
    "**b. ¿Qué se entiende por sesgo de selección del modelo en el modelado sustituto y cómo puede afectar la precisión de las predicciones?**\n",
    "El **sesgo de selección del modelo** en el modelado sustituto se refiere a la elección inadecuada de la arquitectura o tipo de modelo sustituto. Puede afectar la precisión de las predicciones porque un modelo inapropiado puede no capturar de manera precisa la relación entre las variables de entrada y salida en el sistema subyacente. Por ejemplo, si se elige un modelo demasiado simple para representar la dinámica de una pieza musical compleja, es probable que las predicciones musicales sean inexactas.\n",
    "\n",
    "**Estrategia de Mitigación 🧭:** Una estrategia para mitigar este sesgo es utilizar técnicas de validación cruzada, donde se evalúan múltiples modelos con diferentes configuraciones en datos de prueba para seleccionar el que tiene el mejor rendimiento en general.\n",
    "\n",
    "**c. ¿Cómo se equilibra la precisión del modelo y la eficiencia computacional al elegir la complejidad de un modelo sustituto? ¿Cuándo optaría por un modelo más complejo y cuándo sería preferible un modelo más simple?**\n",
    "El equilibrio entre la precisión y la eficiencia computacional al elegir la complejidad del modelo sustituto depende del contexto y los recursos disponibles. \n",
    "\n",
    "- **Modelo Más Complejo:** Se optaría por un modelo más complejo cuando se dispone de suficientes recursos computacionales y la precisión es esencial. Por ejemplo, en la composición musical por inteligencia artificial, se pueden usar modelos de redes neuronales profundos para capturar matices musicales complejos.\n",
    "\n",
    "- **Modelo Más Simple:** Se prefiere un modelo más simple cuando los recursos son limitados o se necesita eficiencia. Por ejemplo, en aplicaciones de música en dispositivos móviles, se pueden utilizar modelos más simples para garantizar una ejecución rápida y un uso eficiente de la batería.\n",
    "\n",
    "**d. ¿Cuáles son las limitaciones del modelado sustituto y qué tipos de problemas pueden no ser adecuados para la aproximación del modelo sustituto?**\n",
    "El modelado sustituto tiene limitaciones en la representación de sistemas altamente no lineales o extremadamente complejos. No es adecuado para problemas en los que la simplificación excesiva del sistema puede llevar a predicciones inexactas. Por ejemplo, en la síntesis de música generativa, donde se busca crear música altamente creativa y compleja, los modelos sustitutos pueden tener dificultades para capturar la originalidad y la sutileza de la música humana.\n",
    "\n",
    "\n",
    "**e.1 Imagine que tiene un problema complejo y de grandes dimensiones con recursos computacionales limitados. ¿Cómo abordaría la reducción de dimensionalidad y la selección de características antes de construir un modelo sustituto? ¿Qué métodos o técnicas podría emplear? (Física)**\n",
    "\n",
    "Abordar la reducción de dimensionalidad y la selección de características en un problema complejo de física cuántica con recursos computacionales limitados es fundamental para lograr una representación más eficiente del sistema. Aquí hay una estrategia para abordar este desafío:\n",
    "\n",
    "1. Reducción de Dimensionalidad: La física cuántica involucra sistemas con un gran número de partículas y estados posibles, lo que puede generar conjuntos de datos de alta dimensionalidad. Para reducir esta dimensionalidad, se pueden aplicar técnicas como el Análisis de Componentes Principales (PCA). PCA identifica las direcciones principales en los datos, reduciendo la dimensionalidad al proyectar los datos en un espacio de menor dimensión que retiene la mayoría de la variabilidad. Esto simplifica el problema sin perder información esencial.\n",
    "\n",
    "2. Selección de Características: En física cuántica, no todas las variables pueden ser igualmente relevantes. La selección de características ayuda a identificar las variables más importantes. Se pueden utilizar técnicas como la selección de variables basada en importancia mediante algoritmos de aprendizaje automático, como árboles de decisión o Random Forest. Esto permite identificar las características cuánticas que tienen un mayor impacto en el comportamiento del sistema y reducir la complejidad del modelo.\n",
    "\n",
    "3. Abordaje Específico del Problema: En problemas de física cuántica, es esencial comprender la naturaleza del sistema y la física subyacente. Esto puede guiar la selección de características relevantes. Por ejemplo, en la simulación de un sistema cuántico, se pueden identificar las variables que representan la energía, la posición o el espín de las partículas como las más críticas, y centrarse en ellas.\n",
    "\n",
    "4. Validación y Ajuste Continuo: Después de reducir la dimensionalidad y seleccionar las características, es importante validar el modelo sustituto resultante en datos de prueba para asegurarse de que aún se logre una buena aproximación del sistema cuántico. Si es necesario, se pueden realizar ajustes adicionales en la selección de características o la complejidad del modelo para mejorar la precisión y la eficiencia.\n",
    "\n",
    "\n",
    "**e.2 Imagine que tiene un problema complejo y de grandes dimensiones con recursos computacionales limitados. ¿Cómo abordaría la reducción de dimensionalidad y la selección de características antes de construir un modelo sustituto? ¿Qué métodos o técnicas podría emplear? (Música)**\n",
    "\n",
    "En un problema musical complejo con recursos limitados, abordaría la reducción de dimensionalidad y la selección de características utilizando técnicas como el **Análisis de Componentes Principales (PCA)** para reducir la dimensionalidad de los datos musicales y conservar las características más significativas. Además, emplearía métodos de selección de características, como **RFE (Recursive Feature Elimination)**, para identificar las características musicales más importantes. Esto simplificaría el problema y permitiría la construcción de un modelo sustituto eficiente con los recursos disponibles. 🎶🎹🔍🎻\n",
    "\n",
    "(Referencias: [PCA](https://scikit-learn.org/stable/modules/generated/sklearn.decomposition.PCA.html), [RFE](https://scikit-learn.org/stable/modules/generated/sklearn.feature_selection.RFE.html))\n"
   ]
  }
 ],
 "metadata": {
  "kernelspec": {
   "display_name": "Python 3",
   "language": "python",
   "name": "python3"
  },
  "language_info": {
   "codemirror_mode": {
    "name": "ipython",
    "version": 3
   },
   "file_extension": ".py",
   "mimetype": "text/x-python",
   "name": "python",
   "nbconvert_exporter": "python",
   "pygments_lexer": "ipython3",
   "version": "3.10.2"
  },
  "orig_nbformat": 4
 },
 "nbformat": 4,
 "nbformat_minor": 2
}
